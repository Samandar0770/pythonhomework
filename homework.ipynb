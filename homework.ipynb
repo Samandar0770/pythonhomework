{
 "cells": [
  {
   "cell_type": "code",
   "execution_count": 1,
   "metadata": {},
   "outputs": [
    {
     "name": "stdout",
     "output_type": "stream",
     "text": [
      "grade is B\n"
     ]
    }
   ],
   "source": [
    "marks = int(input('enter mark'))\n",
    "if marks > 90:\n",
    "    print('grade is A')\n",
    "elif marks > 80 and marks <= 90:\n",
    "    print('grade is B')\n",
    "elif marks >= 60 and marks <= 80:\n",
    "    print('grade is C')\n",
    "elif marks > 60:\n",
    "    print('grade is D')"
   ]
  },
  {
   "cell_type": "code",
   "execution_count": 7,
   "metadata": {},
   "outputs": [
    {
     "name": "stdout",
     "output_type": "stream",
     "text": [
      "tax to be paid 1500.0\n"
     ]
    }
   ],
   "source": [
    "tax = 0\n",
    "cost = int(input('enter cost'))\n",
    "if cost > 100000:\n",
    "    tax = 15/100*cost\n",
    "elif cost > 50000 and cost <= 100000:\n",
    "    tax = 10/100*cost\n",
    "else:\n",
    "    tax = 5/100*cost\n",
    "print('tax to be paid',tax)"
   ]
  },
  {
   "cell_type": "code",
   "execution_count": 10,
   "metadata": {},
   "outputs": [
    {
     "name": "stdout",
     "output_type": "stream",
     "text": [
      "leap year\n"
     ]
    }
   ],
   "source": [
    "year = int(input('enter year'))\n",
    "if year % 4 == 0:\n",
    "    if year % 100 == 0:\n",
    "        if year % 400 == 0:\n",
    "            print('leap year')\n",
    "        else:\n",
    "            print('not leap year')\n",
    "    else:\n",
    "        print('leap year')\n",
    "else :\n",
    "    print('not leap year')"
   ]
  },
  {
   "cell_type": "code",
   "execution_count": 11,
   "metadata": {},
   "outputs": [
    {
     "name": "stdout",
     "output_type": "stream",
     "text": [
      "tuesday\n"
     ]
    }
   ],
   "source": [
    "weekdays = int(input('enter number'))\n",
    "if weekdays == 1:\n",
    "    print('sunday')\n",
    "elif weekdays == 2:\n",
    "    print('monday')\n",
    "elif weekdays == 3:\n",
    "    print('tuesday')\n",
    "elif weekdays == 4:\n",
    "    print('wednesday')\n",
    "elif weekdays == 5:\n",
    "    print('thursday')\n",
    "elif weekdays == 6:\n",
    "    print('friday')\n",
    "elif weekdays == 7:\n",
    "    print('saturday')\n",
    "else:\n",
    "    print('wrong weekday')"
   ]
  },
  {
   "cell_type": "code",
   "execution_count": 12,
   "metadata": {},
   "outputs": [
    {
     "name": "stdout",
     "output_type": "stream",
     "text": [
      "September\n",
      "30 days\n"
     ]
    }
   ],
   "source": [
    "month = int(input('enter number'))\n",
    "if month == 1:\n",
    "    print('January')\n",
    "    print('31 days')\n",
    "elif month == 2:\n",
    "    print('February')\n",
    "    print('28 days')\n",
    "elif month == 3:\n",
    "    print('March')\n",
    "    print('31 days')\n",
    "elif month == 4:\n",
    "    print('April')\n",
    "    print('30 days')\n",
    "elif month == 5:\n",
    "    print('May')\n",
    "    print('31 days')\n",
    "elif month == 6:\n",
    "    print('Iyun')\n",
    "    print('30 days')\n",
    "elif month == 7:\n",
    "    print('Iyul')\n",
    "    print('31 days')\n",
    "elif month == 8:\n",
    "    print('August')\n",
    "    print('31 days')\n",
    "elif month == 9:\n",
    "    print('September')\n",
    "    print('30 days')\n",
    "elif month == 10:\n",
    "    print('October')\n",
    "    print('31 days')\n",
    "elif month == 11:\n",
    "    print('November')\n",
    "    print('30 days')\n",
    "elif month == 12:\n",
    "    print('December')\n",
    "    print('31 days')\n",
    "else:\n",
    "    print('wrong month')"
   ]
  },
  {
   "cell_type": "code",
   "execution_count": 13,
   "metadata": {},
   "outputs": [
    {
     "name": "stdout",
     "output_type": "stream",
     "text": [
      "202\n"
     ]
    }
   ],
   "source": [
    "choose = int(input('enter number'))\n",
    "if choose == 0:\n",
    "    print('101')\n",
    "else:\n",
    "    print('202')"
   ]
  },
  {
   "cell_type": "code",
   "execution_count": 15,
   "metadata": {},
   "outputs": [
    {
     "name": "stdout",
     "output_type": "stream",
     "text": [
      "C > D\n"
     ]
    }
   ],
   "source": [
    "number = int(input('enter number'))\n",
    "if number == 1:\n",
    "    print('A > B')\n",
    "elif number == 2:\n",
    "    print('C > D')\n",
    "else:\n",
    "    print('wrong data')"
   ]
  },
  {
   "cell_type": "code",
   "execution_count": 16,
   "metadata": {},
   "outputs": [
    {
     "name": "stdout",
     "output_type": "stream",
     "text": [
      "name of city: Red Fort\n"
     ]
    }
   ],
   "source": [
    "city = input('enter city')\n",
    "if city.lower() == 'delhi':\n",
    "    print('name of city: Red Fort')\n",
    "elif city.lower() == 'agra':\n",
    "    print('name of city: Taj Mahal')\n",
    "elif city.lower() == 'jaipur':\n",
    "    print('name of city: Jal Mahal')\n",
    "else:\n",
    "    print('enter correct name of city')"
   ]
  },
  {
   "cell_type": "code",
   "execution_count": null,
   "metadata": {},
   "outputs": [
    {
     "name": "stdout",
     "output_type": "stream",
     "text": [
      "hello\n"
     ]
    }
   ],
   "source": [
    "enternumber = 9\n",
    "number = int(input('enter number'))\n",
    "if number > 5 and number <= 10:\n",
    "    print('hello')\n",
    "else:\n",
    "    print('Bye')"
   ]
  },
  {
   "cell_type": "code",
   "execution_count": 24,
   "metadata": {},
   "outputs": [
    {
     "name": "stdout",
     "output_type": "stream",
     "text": [
      "you can be data engineer\n"
     ]
    }
   ],
   "source": [
    "is_known_sql = input('enter \"yes\" if you know else \"no\"')\n",
    "if is_known_sql == 'yes':\n",
    "    is_known_python = input('enter \"yes\" if you know else \"no\"')\n",
    "    if is_known_python == 'yes':\n",
    "        print('you can be BI developer')\n",
    "    else:\n",
    "        print('you can be data analyst')\n",
    "else:\n",
    "    is_known_python = input('enter \"yes\" if you know else \"no\"')\n",
    "    if is_known_python == 'yes':\n",
    "        print('you can be data engineer')\n",
    "    else:\n",
    "        print('you have to learn sql and python')"
   ]
  }
 ],
 "metadata": {
  "kernelspec": {
   "display_name": "Python 3",
   "language": "python",
   "name": "python3"
  },
  "language_info": {
   "codemirror_mode": {
    "name": "ipython",
    "version": 3
   },
   "file_extension": ".py",
   "mimetype": "text/x-python",
   "name": "python",
   "nbconvert_exporter": "python",
   "pygments_lexer": "ipython3",
   "version": "3.12.8"
  }
 },
 "nbformat": 4,
 "nbformat_minor": 2
}
