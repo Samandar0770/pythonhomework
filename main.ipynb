{
 "cells": [
  {
   "cell_type": "code",
   "execution_count": null,
   "metadata": {},
   "outputs": [],
   "source": [
    "The Zen of Python, by Tim Peters\n",
    "\n",
    "Beautiful is better than ugly.\n",
    "Explicit is better than implicit.\n",
    "Simple is better than complex.\n",
    "Complex is better than complicated.\n",
    "Flat is better than nested.\n",
    "Sparse is better than dense.\n",
    "Readability counts.\n",
    "Special cases aren't special enough to break the rules.\n",
    "Although practicality beats purity.\n",
    "Errors should never pass silently.\n",
    "Unless explicitly silenced.\n",
    "In the face of ambiguity, refuse the temptation to guess.\n",
    "There should be one-- and preferably only one --obvious way to do it.\n",
    "Although that way may not be obvious at first unless you're Dutch.\n",
    "Now is better than never.\n",
    "Although never is often better than *right* now.\n",
    "If the implementation is hard to explain, it's a bad idea.\n",
    "If the implementation is easy to explain, it may be a good idea.\n",
    "Namespaces are one honking great idea -- let's do more of those!\n"
   ]
  },
  {
   "cell_type": "code",
   "execution_count": 34,
   "metadata": {},
   "outputs": [
    {
     "name": "stdout",
     "output_type": "stream",
     "text": [
      "{'the': 6, 'zen': 1, 'of': 3, 'python': 1, 'by': 1, 'tim': 1, 'peters\\n\\nbeautiful': 1, 'is': 10, 'better': 8, 'than': 8, 'ugly\\nexplicit': 1, 'implicit\\nsimple': 1, 'complex\\ncomplex': 1, 'complicated\\nflat': 1, 'nested\\nsparse': 1, 'dense\\nreadability': 1, 'counts\\nspecial': 1, 'cases': 1, \"aren't\": 1, 'special': 1, 'enough': 1, 'to': 5, 'break': 1, 'rules\\nalthough': 1, 'practicality': 1, 'beats': 1, 'purity\\nerrors': 1, 'should': 2, 'never': 2, 'pass': 1, 'silently\\nunless': 1, 'explicitly': 1, 'silenced\\nin': 1, 'face': 1, 'ambiguity': 1, 'refuse': 1, 'temptation': 1, 'guess\\nthere': 1, 'be': 3, 'one': 3, 'and': 1, 'preferably': 1, 'only': 1, 'obvious': 2, 'way': 2, 'do': 2, 'it\\nalthough': 1, 'that': 1, 'may': 2, 'not': 1, 'at': 1, 'first': 1, 'unless': 1, \"you're\": 1, 'dutch\\nnow': 1, 'never\\nalthough': 1, 'often': 1, 'right': 1, 'now\\nif': 1, 'implementation': 2, 'hard': 1, 'explain': 2, \"it's\": 1, 'a': 2, 'bad': 1, 'idea\\nif': 1, 'easy': 1, 'it': 1, 'good': 1, 'idea\\nnamespaces': 1, 'are': 1, 'honking': 1, 'great': 1, 'idea': 1, \"let's\": 1, 'more': 1, 'those': 1}\n"
     ]
    }
   ],
   "source": [
    "path = r'C:\\Users\\user\\Desktop\\python\\lesson8\\test.txt'\n",
    "with open(path,'r') as H:\n",
    "    text = H.read().lower()\n",
    "# print(text)\n",
    "punctuationlist = [',','.','*','--','-','!']\n",
    "# print(punctuationlist)\n",
    "for i in punctuationlist:\n",
    "    text = text.replace(i,'')\n",
    "text = text.replace('/n',' ')\n",
    "# print(text)\n",
    "d = {}\n",
    "for i in text.split(' '):\n",
    "    if len(i) > 0:\n",
    "      if i not in d.keys():\n",
    "        d[i] = 1\n",
    "      else:\n",
    "        d[i] += 1\n",
    "print(d)"
   ]
  }
 ],
 "metadata": {
  "kernelspec": {
   "display_name": "Python 3",
   "language": "python",
   "name": "python3"
  },
  "language_info": {
   "codemirror_mode": {
    "name": "ipython",
    "version": 3
   },
   "file_extension": ".py",
   "mimetype": "text/x-python",
   "name": "python",
   "nbconvert_exporter": "python",
   "pygments_lexer": "ipython3",
   "version": "3.12.8"
  }
 },
 "nbformat": 4,
 "nbformat_minor": 2
}
