{
 "cells": [
  {
   "cell_type": "markdown",
   "metadata": {},
   "source": [
    "true"
   ]
  },
  {
   "cell_type": "markdown",
   "metadata": {},
   "source": [
    "false"
   ]
  },
  {
   "cell_type": "markdown",
   "metadata": {},
   "source": [
    "none"
   ]
  },
  {
   "cell_type": "code",
   "execution_count": 22,
   "metadata": {},
   "outputs": [
    {
     "data": {
      "text/plain": [
       "True"
      ]
     },
     "execution_count": 22,
     "metadata": {},
     "output_type": "execute_result"
    }
   ],
   "source": [
    "3 == 3 "
   ]
  },
  {
   "cell_type": "code",
   "execution_count": 23,
   "metadata": {},
   "outputs": [
    {
     "data": {
      "text/plain": [
       "False"
      ]
     },
     "execution_count": 23,
     "metadata": {},
     "output_type": "execute_result"
    }
   ],
   "source": [
    "3 > 5"
   ]
  },
  {
   "cell_type": "code",
   "execution_count": 25,
   "metadata": {},
   "outputs": [
    {
     "name": "stdout",
     "output_type": "stream",
     "text": [
      "3\n",
      "None\n"
     ]
    }
   ],
   "source": [
    "H = 3\n",
    "F = print(H)\n",
    "print(F)"
   ]
  },
  {
   "cell_type": "code",
   "execution_count": 29,
   "metadata": {},
   "outputs": [
    {
     "data": {
      "text/plain": [
       "3"
      ]
     },
     "execution_count": 29,
     "metadata": {},
     "output_type": "execute_result"
    }
   ],
   "source": [
    "def test(H) :\n",
    "    return H\n",
    "\n",
    "test(3)"
   ]
  },
  {
   "cell_type": "code",
   "execution_count": null,
   "metadata": {},
   "outputs": [],
   "source": [
    "# >,<,>=,<=,==,!=,\n",
    "bool('a')"
   ]
  },
  {
   "cell_type": "code",
   "execution_count": 30,
   "metadata": {},
   "outputs": [
    {
     "data": {
      "text/plain": [
       "True"
      ]
     },
     "execution_count": 30,
     "metadata": {},
     "output_type": "execute_result"
    }
   ],
   "source": [
    "bool(3)"
   ]
  },
  {
   "cell_type": "code",
   "execution_count": 31,
   "metadata": {},
   "outputs": [
    {
     "data": {
      "text/plain": [
       "True"
      ]
     },
     "execution_count": 31,
     "metadata": {},
     "output_type": "execute_result"
    }
   ],
   "source": [
    "bool([1,2,3,6])"
   ]
  },
  {
   "cell_type": "code",
   "execution_count": 32,
   "metadata": {},
   "outputs": [
    {
     "data": {
      "text/plain": [
       "False"
      ]
     },
     "execution_count": 32,
     "metadata": {},
     "output_type": "execute_result"
    }
   ],
   "source": [
    "bool(0)"
   ]
  },
  {
   "cell_type": "code",
   "execution_count": 33,
   "metadata": {},
   "outputs": [
    {
     "data": {
      "text/plain": [
       "False"
      ]
     },
     "execution_count": 33,
     "metadata": {},
     "output_type": "execute_result"
    }
   ],
   "source": [
    "bool('')"
   ]
  },
  {
   "cell_type": "code",
   "execution_count": 34,
   "metadata": {},
   "outputs": [
    {
     "data": {
      "text/plain": [
       "False"
      ]
     },
     "execution_count": 34,
     "metadata": {},
     "output_type": "execute_result"
    }
   ],
   "source": [
    "bool([])"
   ]
  },
  {
   "cell_type": "code",
   "execution_count": 35,
   "metadata": {},
   "outputs": [
    {
     "data": {
      "text/plain": [
       "True"
      ]
     },
     "execution_count": 35,
     "metadata": {},
     "output_type": "execute_result"
    }
   ],
   "source": [
    "bool(-3)"
   ]
  },
  {
   "cell_type": "code",
   "execution_count": 37,
   "metadata": {},
   "outputs": [],
   "source": [
    "s1 = 'ooooooooo' \n",
    "s2 = ''"
   ]
  },
  {
   "cell_type": "code",
   "execution_count": 38,
   "metadata": {},
   "outputs": [
    {
     "data": {
      "text/plain": [
       "True"
      ]
     },
     "execution_count": 38,
     "metadata": {},
     "output_type": "execute_result"
    }
   ],
   "source": [
    "none = 'ooooooooooooooooo'\n",
    "none = ';'\n",
    "none == none\n"
   ]
  },
  {
   "cell_type": "code",
   "execution_count": 2,
   "metadata": {},
   "outputs": [
    {
     "name": "stdout",
     "output_type": "stream",
     "text": [
      "hello\n",
      "salom\n"
     ]
    }
   ],
   "source": [
    "if 3 < 5 :\n",
    "    print('hello')\n",
    "    print('salom')"
   ]
  },
  {
   "cell_type": "code",
   "execution_count": 43,
   "metadata": {},
   "outputs": [
    {
     "name": "stdout",
     "output_type": "stream",
     "text": [
      "welcome platform\n"
     ]
    }
   ],
   "source": [
    "password = 123691\n",
    "passwrd = int(input('enter password'))\n",
    "if password == passwrd :\n",
    "   print('welcome platform')\n",
    "else :\n",
    "   print('password is not correct')"
   ]
  },
  {
   "cell_type": "code",
   "execution_count": 44,
   "metadata": {},
   "outputs": [
    {
     "data": {
      "text/plain": [
       "'success'"
      ]
     },
     "execution_count": 44,
     "metadata": {},
     "output_type": "execute_result"
    }
   ],
   "source": [
    "score = 39\n",
    "'success' if score > 36 else 'wrong'"
   ]
  },
  {
   "cell_type": "code",
   "execution_count": 46,
   "metadata": {},
   "outputs": [
    {
     "name": "stdout",
     "output_type": "stream",
     "text": [
      "wednesday\n"
     ]
    }
   ],
   "source": [
    "weekday = int(input('enter weekday'))\n",
    "if weekday == 1 :\n",
    "    print('monday')\n",
    "elif weekday == 2 :\n",
    "    print('tuesday')\n",
    "elif weekday == 3 :\n",
    "    print('wednesday')\n",
    "elif weekday == 4 :\n",
    "    print('thursday')\n",
    "elif weekday == 5 :\n",
    "    print('friday')\n",
    "elif weekday == 6 :\n",
    "    print('saturday')\n",
    "elif weekday == 7 :\n",
    "    print('sunday')\n",
    "else :\n",
    "    print('wrong weekday')"
   ]
  },
  {
   "cell_type": "code",
   "execution_count": null,
   "metadata": {},
   "outputs": [
    {
     "name": "stdout",
     "output_type": "stream",
     "text": [
      "you can give\n"
     ]
    }
   ],
   "source": [
    "age = int(input('enter age'))\n",
    "if age > 0 and age < 18 :\n",
    "    print('you cannot give ')\n",
    "elif age < 35 :\n",
    "    print('you can give')\n",
    "elif age >= 35 :\n",
    "    print('you can take your name')\n",
    "else :\n",
    "    print('wrong age')"
   ]
  },
  {
   "cell_type": "code",
   "execution_count": 21,
   "metadata": {},
   "outputs": [
    {
     "name": "stdout",
     "output_type": "stream",
     "text": [
      "you can be data analysit\n"
     ]
    }
   ],
   "source": [
    "is_known_sql = input('enter ''yes'' if you know sql else ''no''')\n",
    "is_known_python = input('enter ''yes'' if you know python else ''no''')\n",
    "if is_known_sql == 'yes' and is_known_python == 'yes' :\n",
    "    print('you can be bi developer')\n",
    "elif is_known_python == 'yes' :\n",
    "    print('you can be data engineer')\n",
    "elif is_known_sql == 'yes' :\n",
    "    print('you can be data analysit')\n",
    "else :\n",
    "     print('sorry, your candidate is not appropriate')"
   ]
  },
  {
   "cell_type": "code",
   "execution_count": 51,
   "metadata": {},
   "outputs": [
    {
     "name": "stdout",
     "output_type": "stream",
     "text": [
      "you can be data analyst\n"
     ]
    }
   ],
   "source": [
    "is_known_sql = input('enter ''yes'' if you know sql else ''no''')\n",
    "is_known_python = input('enter ''yes'' if you know python else ''no''')\n",
    "if is_known_sql == 'yes' :\n",
    "     print('you can be data analyst')\n",
    "elif is_known_python == 'yes' :\n",
    "    print('you can be data engineer')\n",
    "elif is_known_sql == 'yes' and is_known_python == 'yes' :\n",
    "    print('you can be bi developer')\n",
    "else :\n",
    "    print('your candidate is not appropriate')\n",
    "     \n",
    "\n"
   ]
  },
  {
   "cell_type": "code",
   "execution_count": 1,
   "metadata": {},
   "outputs": [
    {
     "name": "stdout",
     "output_type": "stream",
     "text": [
      "leap year\n"
     ]
    }
   ],
   "source": [
    "# homework\n",
    "year = int(input('enter year'))\n",
    "if year % 4 == 0:\n",
    "    if year % 100 == 0:\n",
    "        if year % 400 == 0:\n",
    "            print('leap year')\n",
    "        else:\n",
    "            print('not leap year')\n",
    "    else:\n",
    "        print('leap year')\n",
    "else:\n",
    "    print('not leap year')"
   ]
  },
  {
   "cell_type": "code",
   "execution_count": 6,
   "metadata": {},
   "outputs": [
    {
     "name": "stdout",
     "output_type": "stream",
     "text": [
      "sorry, you have to learn sql and python\n"
     ]
    }
   ],
   "source": [
    "is_known_sql = input('enter ''yes'' if you know else ''no''')\n",
    "if is_known_sql == 'yes':\n",
    "    is_known_python = input('enter ''yes'' if you know else ''no''')\n",
    "    if is_known_python == 'yes':\n",
    "       print('you can be BI developer')\n",
    "    else:\n",
    "        print('you can be data analyst')\n",
    "else:\n",
    "    is_known_python = input('enter ''yes'' if you know else ''no''')\n",
    "    if is_known_python == 'yes':\n",
    "        print('you can be data engineer')\n",
    "    else:\n",
    "        print('sorry, you have to learn sql and python')\n",
    "\n"
   ]
  }
 ],
 "metadata": {
  "kernelspec": {
   "display_name": "Python 3",
   "language": "python",
   "name": "python3"
  },
  "language_info": {
   "codemirror_mode": {
    "name": "ipython",
    "version": 3
   },
   "file_extension": ".py",
   "mimetype": "text/x-python",
   "name": "python",
   "nbconvert_exporter": "python",
   "pygments_lexer": "ipython3",
   "version": "3.12.8"
  }
 },
 "nbformat": 4,
 "nbformat_minor": 2
}
